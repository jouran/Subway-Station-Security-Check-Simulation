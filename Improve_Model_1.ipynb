{
  "nbformat": 4,
  "nbformat_minor": 0,
  "metadata": {
    "colab": {
      "name": "Improve_Model_1.ipynb",
      "provenance": [],
      "collapsed_sections": []
    },
    "kernelspec": {
      "name": "python3",
      "display_name": "Python 3"
    },
    "language_info": {
      "name": "python"
    }
  },
  "cells": [
    {
      "cell_type": "code",
      "metadata": {
        "id": "Yl7_QK69aG39"
      },
      "source": [
        "import numpy as np\n",
        "!pip install pandas -q\n",
        "import pandas as pd\n",
        "import scipy.special as spsp\n",
        "import matplotlib.pyplot as plt\n",
        "%matplotlib inline\n",
        "import sympy\n",
        "import scipy.stats as spst\n",
        "!pip install simpy -q\n",
        "import simpy \n",
        "import copy\n",
        "!pip install hyperopt -q\n",
        "import hyperopt\n",
        "from tqdm import tqdm"
      ],
      "execution_count": null,
      "outputs": []
    },
    {
      "cell_type": "code",
      "metadata": {
        "id": "38CMjppyamPN"
      },
      "source": [
        "BAG_CHECK_TIME = 20\n",
        "BODY_CHECK_TIME = 2\n",
        "WALK_TO_PLATFORM_TIME = 90\n",
        "PERCENT_WITH_BAG = 0.4\n",
        "TRAIN_ARRIVE_TIME = 180\n",
        "TRAIN_MAX_CAPACITY = 100\n",
        "num_compartments = 6\n",
        "\n",
        "np.random.seed(10)\n",
        "# Original Simulation Model\n",
        "def train(env,server1,server2,queues_d0,queues_d1,Outcome,Finish):\n",
        "    global compartments_d0, compartments_d1\n",
        "    global next_train_event_d0, next_train_event_d1\n",
        "    next_train_event_d0 = env.event()\n",
        "    next_train_event_d1 = env.event()\n",
        "    i = 0\n",
        "    while True:\n",
        "        # it needs to frequently update the resource, and clear the line, \n",
        "        # and add those who did not enter the train last time to new queue\n",
        "        # we mark next_train_event as triggered such that all lines wait on these events will start \n",
        "        next_train_event_d0.succeed()\n",
        "        next_train_event_d1.succeed()\n",
        "        # create new next train events\n",
        "        next_train_event_d0 = env.event()\n",
        "        next_train_event_d1 = env.event()\n",
        "        # generate random initial capacity for compartments\n",
        "        compartments_d0 = [TRAIN_MAX_CAPACITY - int(np.random.normal(50,6)) - int(np.random.normal(200,30)/12) for _ in range(num_compartments)]\n",
        "        compartments_d1 = [TRAIN_MAX_CAPACITY - int(np.random.normal(50,6)) - int(np.random.normal(200,30)/12) for _ in range(num_compartments)]\n",
        "        # wait for the next train to arrive\n",
        "        yield env.timeout(30)\n",
        "        compartments_d0 = [0 for _ in range(num_compartments)]\n",
        "        compartments_d1 = [0 for _ in range(num_compartments)]\n",
        "        yield env.timeout(TRAIN_ARRIVE_TIME - 30)\n",
        "        i+=1\n",
        "\n",
        "# homogeneous arrival with 100 people per minute per entrance\n",
        "def arrival(env,server1,server2,queues_d0,queues_d1,Outcome,Finish):\n",
        "  lamba=1\n",
        "  i=0\n",
        "  while True:\n",
        "    inter_arrival=-1/lamba*np.log(np.random.rand())\n",
        "    yield env.timeout(inter_arrival)\n",
        "    # Outcome.append([env.now])\n",
        "    #print(\"Passenger\", i, \"arrived\", env.now)\n",
        "    \n",
        "    # 40% of the arrival take bags with them\n",
        "    u=np.random.rand()\n",
        "    bag=0\n",
        "    if u < PERCENT_WITH_BAG:\n",
        "      bag=1\n",
        "      #print(\"Passenger\", i, \"needs to go through bag check\", env.now)\n",
        "    Outcome.append({\"arrival\": env.now, \"withBag\": bool(bag)})\n",
        "    env.process(security(i, bag,env,server1,server2,queues_d0,queues_d1,Outcome,Finish))\n",
        "    i+=1\n",
        "\n",
        "def security(i, bag,env,server1,server2,queues_d0,queues_d1,Outcome,Finish):\n",
        "  rqt2=server2.request()\n",
        "  # if a person has bags, they needs to go through bag scanner\n",
        "  if bag==1:\n",
        "    rqt1=server1.request()\n",
        "    yield rqt1\n",
        "    server2.release(rqt2)\n",
        "    rqt2.cancel()\n",
        "    # It takes a person 10 seconds for bag and body check\n",
        "    yield env.timeout(BAG_CHECK_TIME)\n",
        "    #print(\"Passenger\", i, \"finishes bag check\", env.now)\n",
        "    # Outcome[i].append(env.now)\n",
        "    server1.release(rqt1)\n",
        "\n",
        "  # It takes 2s per person for body check\n",
        "  else:\n",
        "    yield rqt2\n",
        "    yield env.timeout(BODY_CHECK_TIME)\n",
        "    server2.release(rqt2)\n",
        "    #print(\"Passenger\", i, \"finishes body check\", env.now)\n",
        "    # Outcome[i].append(env.now)\n",
        "\n",
        "  Outcome[i][\"pass security\"] = env.now\n",
        "  env.process(compartment(i,env,server1,server2,queues_d0,queues_d1,Outcome,Finish))\n",
        "\n",
        "def getEventAndCompartment(u,env,server1,server2,queues_d0,queues_d1,Outcome):\n",
        "    if u < 0.5:\n",
        "      return compartments_d0, next_train_event_d0\n",
        "    else:\n",
        "      return compartments_d1, next_train_event_d1\n",
        "\n",
        "def compartment(i,env,server1,server2,queues_d0,queues_d1,Outcome,Finish):\n",
        "    # It takes 90 seconds to walk to platform\n",
        "    yield env.timeout(WALK_TO_PLATFORM_TIME)\n",
        "    # outcome[i].append(env.now)\n",
        "    u = np.random.rand()\n",
        "    if u < 0.5:\n",
        "      queues = queues_d0\n",
        "    else:\n",
        "      queues = queues_d1\n",
        "\n",
        "    index = np.argmin([len(ele.queue) for ele in queues])\n",
        "    shortest_queue = queues[index]\n",
        "\n",
        "    if len(shortest_queue.queue) >= 30:\n",
        "      raise RuntimeError(\"System failed\")\n",
        "\n",
        "    with shortest_queue.request() as request:\n",
        "      yield request\n",
        "      # once we have the request, i.e we are at the front of the line\n",
        "      # f the compartment is not full, we enter it and leave the loop\n",
        "      # if the compartment is full, we wait until next_train_event is triggered\n",
        "      # and check again if the compartment is true.\n",
        "      num_wait = 0\n",
        "      while True:\n",
        "        compartment, next_train_event = getEventAndCompartment(u,env,server1,server2,queues_d0,queues_d1,Outcome)\n",
        "        if compartment[index] > 0:\n",
        "          compartment[index] -= 1 \n",
        "          # record departure time\n",
        "          # note that i is necessary, since the first one arrives does not need to be the first one to depart\n",
        "          Outcome[i][\"departure\"] = env.now\n",
        "          Finish.append(Outcome[i])\n",
        "          # outcome[i].append(num_wait)\n",
        "          if num_wait > 1:\n",
        "            print(f\"{i}-th wait for {num_wait} trains\")\n",
        "          break\n",
        "        else:\n",
        "          # value = next_train_event\n",
        "          # print(\"has wait\")\n",
        "          num_wait += 1\n",
        "          yield next_train_event\n",
        "\n",
        "def subway():\n",
        "  Outcome=[]\n",
        "  Finish=[]\n",
        "  env=simpy.Environment()\n",
        "  # bag check\n",
        "  server1=simpy.Resource(env, capacity=10) \n",
        "  # body check\n",
        "  server2=simpy.Resource(env, capacity=1)\n",
        "  # each compartment for direction 0\n",
        "  queues_d0 = [simpy.Resource(env, capacity=1) for _ in range(num_compartments)]\n",
        "  queues_d1 = [simpy.Resource(env, capacity=1) for _ in range(num_compartments)]\n",
        "  next_train_event_d0, next_train_event_d1 = None, None\n",
        "\n",
        "  env.process(train(env,server1,server2,queues_d0,queues_d1, Outcome, Finish))\n",
        "  env.process(arrival(env,server1,server2,queues_d0,queues_d1, Outcome, Finish))\n",
        "  # Observing simluation between 17:30-18:30\n",
        "  T=3600\n",
        "  env.run(until=T)\n",
        "  return Finish, Outcome"
      ],
      "execution_count": null,
      "outputs": []
    },
    {
      "cell_type": "code",
      "metadata": {
        "colab": {
          "base_uri": "https://localhost:8080/"
        },
        "id": "5-X95Rt4an7u",
        "outputId": "2292112b-58ac-45bb-f557-f6709306156f"
      },
      "source": [
        "finish_list, total_list = [], []\n",
        "for i in tqdm(range(1000)):\n",
        "    finish, total = subway()\n",
        "    finish_list.append(finish)\n",
        "\n",
        "    total_list.append(total)"
      ],
      "execution_count": null,
      "outputs": [
        {
          "output_type": "stream",
          "text": [
            "100%|██████████| 1000/1000 [09:53<00:00,  1.68it/s]\n"
          ],
          "name": "stderr"
        }
      ]
    },
    {
      "cell_type": "code",
      "metadata": {
        "colab": {
          "base_uri": "https://localhost:8080/"
        },
        "id": "O4cnUhrNaqS4",
        "outputId": "c514645f-d32a-49bf-9362-3f662abd9630"
      },
      "source": [
        "security_wait_time_with_bag = []\n",
        "security_wait_time_without_bag = []\n",
        "total_wait_time_with_bag = []\n",
        "total_wait_time_without_bag = []\n",
        "for single_run in finish_list:\n",
        "  for ele in single_run:\n",
        "    if ele['withBag']:\n",
        "      security_wait_time_with_bag.append(ele[\"pass security\"] - ele[\"arrival\"])\n",
        "      total_wait_time_with_bag.append(ele[\"departure\"] - ele[\"arrival\"])\n",
        "    else:\n",
        "      security_wait_time_without_bag.append(ele[\"pass security\"] - ele[\"arrival\"])\n",
        "      total_wait_time_without_bag.append(ele[\"departure\"] - ele[\"arrival\"])\n",
        "# security_wait_time_with_bag = [ele[\"pass security\"] - ele[\"arrival\"] for ele in run if ele['bag'] for run in finish_list]\n",
        "# security_wait_time_without_bag = [ele[\"pass security\"] - ele[\"arrival\"] for ele in run if not ele['bag'] for run in finish_list]\n",
        "\n",
        "\n",
        "print(f\"Average waiting time for security check with bag:{np.mean(security_wait_time_with_bag)}\")\n",
        "print(f\"Average waiting time for security check without bag:{np.mean(security_wait_time_without_bag)}\")\n",
        "print(f\"Average total waiting time with bag:{np.mean(total_wait_time_with_bag)}\")\n",
        "print(f\"Average total waiting time without bag:{np.mean(total_wait_time_without_bag)}\")"
      ],
      "execution_count": null,
      "outputs": [
        {
          "output_type": "stream",
          "text": [
            "Average waiting time for security check with bag:22.173813034168187\n",
            "Average waiting time for security check without bag:287.63635629346135\n",
            "Average total waiting time with bag:173.84342658336024\n",
            "Average total waiting time without bag:439.4432152253376\n"
          ],
          "name": "stdout"
        }
      ]
    },
    {
      "cell_type": "code",
      "metadata": {
        "id": "YfcQN8jJarwE",
        "colab": {
          "base_uri": "https://localhost:8080/",
          "height": 295
        },
        "outputId": "97f21ca6-f748-4f4e-827d-281e3b393746"
      },
      "source": [
        "plt.hist(security_wait_time_with_bag,bins=50,density=True)\n",
        "# plt.xlim(0,800)\n",
        "# plt.ylim(0,0.6)\n",
        "plt.xlabel('waiting time')\n",
        "plt.ylabel('density')\n",
        "plt.title('Security Waiting Time with Bag')\n",
        "plt.show()"
      ],
      "execution_count": null,
      "outputs": [
        {
          "output_type": "display_data",
          "data": {
            "image/png": "[encoded data removed]",
            "text/plain": [
              "<Figure size 432x288 with 1 Axes>"
            ]
          },
          "metadata": {
            "tags": [],
            "needs_background": "light"
          }
        }
      ]
    },
    {
      "cell_type": "code",
      "metadata": {
        "colab": {
          "base_uri": "https://localhost:8080/",
          "height": 295
        },
        "id": "pMZj6QI5nreG",
        "outputId": "b13bf55c-de98-4269-f472-f438df171e3a"
      },
      "source": [
        "plt.hist(security_wait_time_without_bag,bins=50,density=True)\n",
        "# plt.xlim(0,800)\n",
        "# plt.ylim(0,0.6)\n",
        "plt.xlabel('waiting time')\n",
        "plt.ylabel('density')\n",
        "plt.title('Security Waiting Time without Bag')\n",
        "plt.show()"
      ],
      "execution_count": null,
      "outputs": [
        {
          "output_type": "display_data",
          "data": {
            "image/png": "[encoded data removed]",
            "text/plain": [
              "<Figure size 432x288 with 1 Axes>"
            ]
          },
          "metadata": {
            "tags": [],
            "needs_background": "light"
          }
        }
      ]
    },
    {
      "cell_type": "code",
      "metadata": {
        "colab": {
          "base_uri": "https://localhost:8080/",
          "height": 295
        },
        "id": "AzvHKxRLnstr",
        "outputId": "d18b84f2-422c-4d60-f9a9-83a18d15aa0a"
      },
      "source": [
        "plt.hist(total_wait_time_with_bag,bins=50,density=True)\n",
        "# plt.xlim(0,800)\n",
        "# plt.ylim(0,0.001)\n",
        "plt.xlabel('waiting time')\n",
        "plt.ylabel('density')\n",
        "plt.title('Total Waiting Time with Bag')\n",
        "plt.show()"
      ],
      "execution_count": null,
      "outputs": [
        {
          "output_type": "display_data",
          "data": {
            "image/png": "[encoded data removed]",
            "text/plain": [
              "<Figure size 432x288 with 1 Axes>"
            ]
          },
          "metadata": {
            "tags": [],
            "needs_background": "light"
          }
        }
      ]
    },
    {
      "cell_type": "code",
      "metadata": {
        "colab": {
          "base_uri": "https://localhost:8080/",
          "height": 295
        },
        "id": "v9KHuTCMnunx",
        "outputId": "478c075f-d700-4e96-8ec3-596f4516514b"
      },
      "source": [
        "plt.hist(total_wait_time_without_bag,bins=50,density=True)\n",
        "# plt.xlim(0,800)\n",
        "# plt.ylim(0,0.001)\n",
        "plt.xlabel('waiting time')\n",
        "plt.ylabel('density')\n",
        "plt.title('Total Waiting Time without Bag')\n",
        "plt.show()"
      ],
      "execution_count": null,
      "outputs": [
        {
          "output_type": "display_data",
          "data": {
            "image/png": "[encoded data removed]",
            "text/plain": [
              "<Figure size 432x288 with 1 Axes>"
            ]
          },
          "metadata": {
            "tags": [],
            "needs_background": "light"
          }
        }
      ]
    }
  ]
}